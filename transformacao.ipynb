{
 "cells": [
  {
   "cell_type": "code",
   "execution_count": 7,
   "id": "976fd11a",
   "metadata": {},
   "outputs": [
    {
     "data": {
      "text/html": [
       "<div>\n",
       "<style scoped>\n",
       "    .dataframe tbody tr th:only-of-type {\n",
       "        vertical-align: middle;\n",
       "    }\n",
       "\n",
       "    .dataframe tbody tr th {\n",
       "        vertical-align: top;\n",
       "    }\n",
       "\n",
       "    .dataframe thead th {\n",
       "        text-align: right;\n",
       "    }\n",
       "</style>\n",
       "<table border=\"1\" class=\"dataframe\">\n",
       "  <thead>\n",
       "    <tr style=\"text-align: right;\">\n",
       "      <th></th>\n",
       "      <th>ID RH</th>\n",
       "      <th>Nome</th>\n",
       "      <th>Sobrenome</th>\n",
       "      <th>Genero</th>\n",
       "      <th>Data de Nascimento</th>\n",
       "      <th>Endereço</th>\n",
       "      <th>Data de Contratacao</th>\n",
       "      <th>Data de Demissao</th>\n",
       "      <th>Salario</th>\n",
       "      <th>VR</th>\n",
       "      <th>VT</th>\n",
       "      <th>Cargo</th>\n",
       "      <th>Área</th>\n",
       "      <th>Horas Extras</th>\n",
       "      <th>Avaliação do Funcionário</th>\n",
       "    </tr>\n",
       "  </thead>\n",
       "  <tbody>\n",
       "    <tr>\n",
       "      <th>0</th>\n",
       "      <td>195</td>\n",
       "      <td>ADELINO</td>\n",
       "      <td>WERNECK</td>\n",
       "      <td>M</td>\n",
       "      <td>1997-04-27</td>\n",
       "      <td>Av. Guilherme Campos, 500 - Jardim Santa Geneb...</td>\n",
       "      <td>2015-04-23</td>\n",
       "      <td>NaT</td>\n",
       "      <td>12954</td>\n",
       "      <td>700</td>\n",
       "      <td>200</td>\n",
       "      <td>Coordenador</td>\n",
       "      <td>Administrativo</td>\n",
       "      <td>161</td>\n",
       "      <td>9.8</td>\n",
       "    </tr>\n",
       "    <tr>\n",
       "      <th>1</th>\n",
       "      <td>102</td>\n",
       "      <td>ADRIANO</td>\n",
       "      <td>SOUZA</td>\n",
       "      <td>M</td>\n",
       "      <td>1993-12-09</td>\n",
       "      <td>Av. Limeira, 722 - Areião, Piracicaba - SP, 13...</td>\n",
       "      <td>2020-12-05</td>\n",
       "      <td>NaT</td>\n",
       "      <td>1635</td>\n",
       "      <td>500</td>\n",
       "      <td>225</td>\n",
       "      <td>Estagiário</td>\n",
       "      <td>Marketing</td>\n",
       "      <td>57</td>\n",
       "      <td>7.3</td>\n",
       "    </tr>\n",
       "    <tr>\n",
       "      <th>2</th>\n",
       "      <td>342</td>\n",
       "      <td>ALFREDO</td>\n",
       "      <td>ARAUJO</td>\n",
       "      <td>M</td>\n",
       "      <td>1986-08-14</td>\n",
       "      <td>Av. Limeira, 722 - Areião, Piracicaba - SP, 13...</td>\n",
       "      <td>2020-04-02</td>\n",
       "      <td>NaT</td>\n",
       "      <td>11153</td>\n",
       "      <td>750</td>\n",
       "      <td>300</td>\n",
       "      <td>Coordenador</td>\n",
       "      <td>Marketing</td>\n",
       "      <td>70</td>\n",
       "      <td>8.7</td>\n",
       "    </tr>\n",
       "    <tr>\n",
       "      <th>3</th>\n",
       "      <td>320</td>\n",
       "      <td>ALINE</td>\n",
       "      <td>SILVA</td>\n",
       "      <td>F</td>\n",
       "      <td>1976-06-22</td>\n",
       "      <td>Av. Paulista, 1230 - Bela Vista, São Paulo - S...</td>\n",
       "      <td>2015-08-13</td>\n",
       "      <td>2021-08-12</td>\n",
       "      <td>898</td>\n",
       "      <td>500</td>\n",
       "      <td>200</td>\n",
       "      <td>Estagiário</td>\n",
       "      <td>Operações</td>\n",
       "      <td>174</td>\n",
       "      <td>7.4</td>\n",
       "    </tr>\n",
       "    <tr>\n",
       "      <th>4</th>\n",
       "      <td>88</td>\n",
       "      <td>ALINE</td>\n",
       "      <td>SOUZA</td>\n",
       "      <td>F</td>\n",
       "      <td>1981-09-04</td>\n",
       "      <td>Condomínio Sorocaba Shopping Center - Av. Dr. ...</td>\n",
       "      <td>2020-03-29</td>\n",
       "      <td>NaT</td>\n",
       "      <td>18878</td>\n",
       "      <td>500</td>\n",
       "      <td>225</td>\n",
       "      <td>Gerente</td>\n",
       "      <td>Administrativo</td>\n",
       "      <td>132</td>\n",
       "      <td>8.3</td>\n",
       "    </tr>\n",
       "  </tbody>\n",
       "</table>\n",
       "</div>"
      ],
      "text/plain": [
       "   ID RH     Nome Sobrenome Genero Data de Nascimento  \\\n",
       "0    195  ADELINO   WERNECK      M         1997-04-27   \n",
       "1    102  ADRIANO     SOUZA      M         1993-12-09   \n",
       "2    342  ALFREDO    ARAUJO      M         1986-08-14   \n",
       "3    320    ALINE     SILVA      F         1976-06-22   \n",
       "4     88    ALINE     SOUZA      F         1981-09-04   \n",
       "\n",
       "                                            Endereço Data de Contratacao  \\\n",
       "0  Av. Guilherme Campos, 500 - Jardim Santa Geneb...          2015-04-23   \n",
       "1  Av. Limeira, 722 - Areião, Piracicaba - SP, 13...          2020-12-05   \n",
       "2  Av. Limeira, 722 - Areião, Piracicaba - SP, 13...          2020-04-02   \n",
       "3  Av. Paulista, 1230 - Bela Vista, São Paulo - S...          2015-08-13   \n",
       "4  Condomínio Sorocaba Shopping Center - Av. Dr. ...          2020-03-29   \n",
       "\n",
       "  Data de Demissao  Salario   VR   VT        Cargo            Área  \\\n",
       "0              NaT    12954  700  200  Coordenador  Administrativo   \n",
       "1              NaT     1635  500  225   Estagiário       Marketing   \n",
       "2              NaT    11153  750  300  Coordenador       Marketing   \n",
       "3       2021-08-12      898  500  200   Estagiário       Operações   \n",
       "4              NaT    18878  500  225      Gerente  Administrativo   \n",
       "\n",
       "   Horas Extras  Avaliação do Funcionário  \n",
       "0           161                       9.8  \n",
       "1            57                       7.3  \n",
       "2            70                       8.7  \n",
       "3           174                       7.4  \n",
       "4           132                       8.3  "
      ]
     },
     "execution_count": 7,
     "metadata": {},
     "output_type": "execute_result"
    }
   ],
   "source": [
    "import pandas as pd\n",
    "import matplotlib.pyplot as plt\n",
    "\n",
    "#Carregar a base\n",
    "df = pd.read_excel(r'BaseFuncionarios.xlsx')\n",
    "\n",
    "df.head()"
   ]
  },
  {
   "cell_type": "code",
   "execution_count": null,
   "id": "0bf807ed",
   "metadata": {},
   "outputs": [],
   "source": [
    "df['Data de Contratacao'] = pd.to_datetime(df['Data de Contratacao'])\n",
    "df['Data de Demissao'] = pd.to_datetime(df['Data de Demissao'], errors='coerce')\n",
    "df.info()"
   ]
  },
  {
   "cell_type": "code",
   "execution_count": null,
   "id": "e3ea88e8",
   "metadata": {},
   "outputs": [],
   "source": [
    "df['Status'] = df['Data de Demissao'].isna().map({ True: 'Ativo', False: 'Demitido'})\n",
    "\n",
    "df['Status'].value_counts()"
   ]
  },
  {
   "cell_type": "markdown",
   "id": "8d1c8f97",
   "metadata": {},
   "source": [
    "O .shape retorna uma tupla com as dimensões do DataFrame:\n",
    "| Código        | Retorna o quê?        | Significado                       |\n",
    "| ------------- | --------------------- | --------------------------------- |\n",
    "| `df.shape`    | `(linhas, colunas)`   | Tamanho da tabela                 |\n",
    "| `df.shape[0]` | Número de **linhas**  | Quantidade de registros           |\n",
    "| `df.shape[1]` | Número de **colunas** | Quantidade de atributos/variáveis |"
   ]
  },
  {
   "cell_type": "code",
   "execution_count": 23,
   "id": "ebf2b76a",
   "metadata": {},
   "outputs": [
    {
     "name": "stdout",
     "output_type": "stream",
     "text": [
      "155\n",
      "51\n"
     ]
    }
   ],
   "source": [
    "total_ativos = df[df['Status']==\"Ativo\"].shape[0]\n",
    "total_demitidos = df[df['Status']==\"Demitido\"].shape[0]\n",
    "print(total_ativos)\n",
    "print(total_demitidos)"
   ]
  },
  {
   "cell_type": "code",
   "execution_count": 18,
   "id": "319cd2df",
   "metadata": {},
   "outputs": [
    {
     "name": "stdout",
     "output_type": "stream",
     "text": [
      "206\n"
     ]
    }
   ],
   "source": [
    "total_contratacoes = df[\"Data de Contratacao\"].notna().sum()\n",
    "print(total_contratacoes)"
   ]
  },
  {
   "cell_type": "code",
   "execution_count": null,
   "id": "a1550205",
   "metadata": {},
   "outputs": [],
   "source": [
    "df"
   ]
  },
  {
   "cell_type": "code",
   "execution_count": 28,
   "id": "662650fe",
   "metadata": {},
   "outputs": [
    {
     "name": "stdout",
     "output_type": "stream",
     "text": [
      "1487553\n",
      "1487553\n"
     ]
    }
   ],
   "source": [
    "df[\"Folha Salarial\"] =  df['Salario'] + df['VT'] + df['VR']\n",
    "total_folha = df[df['Status']=='Ativo']['Folha Salarial'].sum()\n",
    "print(total_folha)\n",
    "#Outra forma\n",
    "folha_salarial = (df['Salario'] + df['VT'] + df['VR'])[df['Status']=='Ativo'].sum()\n",
    "print(folha_salarial)\n"
   ]
  },
  {
   "cell_type": "code",
   "execution_count": 33,
   "id": "fb711d1e",
   "metadata": {},
   "outputs": [
    {
     "data": {
      "text/plain": [
       "array(['M', 'F'], dtype=object)"
      ]
     },
     "execution_count": 33,
     "metadata": {},
     "output_type": "execute_result"
    }
   ],
   "source": [
    "df['Genero'].dropna().unique()"
   ]
  },
  {
   "cell_type": "markdown",
   "id": "bbb7bf5c",
   "metadata": {},
   "source": [
    "Diferença entre notna() e isna()\n",
    "| Método    | Retorna `True` quando... |\n",
    "| --------- | ------------------------ |\n",
    "| `isna()`  | o valor **é nulo**       |\n",
    "| `notna()` | o valor **não é nulo**   |"
   ]
  },
  {
   "cell_type": "code",
   "execution_count": 35,
   "id": "86fad3b2",
   "metadata": {},
   "outputs": [
    {
     "data": {
      "text/plain": [
       "Genero\n",
       "M    106\n",
       "F    100\n",
       "Name: count, dtype: int64"
      ]
     },
     "execution_count": 35,
     "metadata": {},
     "output_type": "execute_result"
    }
   ],
   "source": [
    "df['Genero'].value_counts()"
   ]
  },
  {
   "cell_type": "code",
   "execution_count": 43,
   "id": "9d6d8ae5",
   "metadata": {},
   "outputs": [
    {
     "data": {
      "text/html": [
       "<div>\n",
       "<style scoped>\n",
       "    .dataframe tbody tr th:only-of-type {\n",
       "        vertical-align: middle;\n",
       "    }\n",
       "\n",
       "    .dataframe tbody tr th {\n",
       "        vertical-align: top;\n",
       "    }\n",
       "\n",
       "    .dataframe thead th {\n",
       "        text-align: right;\n",
       "    }\n",
       "</style>\n",
       "<table border=\"1\" class=\"dataframe\">\n",
       "  <thead>\n",
       "    <tr style=\"text-align: right;\">\n",
       "      <th></th>\n",
       "      <th>ID RH</th>\n",
       "      <th>Nome</th>\n",
       "      <th>Sobrenome</th>\n",
       "      <th>Genero</th>\n",
       "      <th>Data de Nascimento</th>\n",
       "      <th>Endereço</th>\n",
       "      <th>Data de Contratacao</th>\n",
       "      <th>Data de Demissao</th>\n",
       "      <th>Salario</th>\n",
       "      <th>VR</th>\n",
       "      <th>VT</th>\n",
       "      <th>Cargo</th>\n",
       "      <th>Área</th>\n",
       "      <th>Horas Extras</th>\n",
       "      <th>Avaliação do Funcionário</th>\n",
       "      <th>Status</th>\n",
       "      <th>Folha Salarial</th>\n",
       "    </tr>\n",
       "  </thead>\n",
       "  <tbody>\n",
       "    <tr>\n",
       "      <th>0</th>\n",
       "      <td>195</td>\n",
       "      <td>ADELINO</td>\n",
       "      <td>WERNECK</td>\n",
       "      <td>M</td>\n",
       "      <td>1997-04-27</td>\n",
       "      <td>Av. Guilherme Campos, 500 - Jardim Santa Geneb...</td>\n",
       "      <td>2015-04-23</td>\n",
       "      <td>NaT</td>\n",
       "      <td>12954</td>\n",
       "      <td>700</td>\n",
       "      <td>200</td>\n",
       "      <td>Coordenador</td>\n",
       "      <td>Administrativo</td>\n",
       "      <td>161</td>\n",
       "      <td>9.8</td>\n",
       "      <td>Ativo</td>\n",
       "      <td>13854</td>\n",
       "    </tr>\n",
       "    <tr>\n",
       "      <th>1</th>\n",
       "      <td>102</td>\n",
       "      <td>ADRIANO</td>\n",
       "      <td>SOUZA</td>\n",
       "      <td>M</td>\n",
       "      <td>1993-12-09</td>\n",
       "      <td>Av. Limeira, 722 - Areião, Piracicaba - SP, 13...</td>\n",
       "      <td>2020-12-05</td>\n",
       "      <td>NaT</td>\n",
       "      <td>1635</td>\n",
       "      <td>500</td>\n",
       "      <td>225</td>\n",
       "      <td>Estagiário</td>\n",
       "      <td>Marketing</td>\n",
       "      <td>57</td>\n",
       "      <td>7.3</td>\n",
       "      <td>Ativo</td>\n",
       "      <td>2360</td>\n",
       "    </tr>\n",
       "    <tr>\n",
       "      <th>2</th>\n",
       "      <td>342</td>\n",
       "      <td>ALFREDO</td>\n",
       "      <td>ARAUJO</td>\n",
       "      <td>M</td>\n",
       "      <td>1986-08-14</td>\n",
       "      <td>Av. Limeira, 722 - Areião, Piracicaba - SP, 13...</td>\n",
       "      <td>2020-04-02</td>\n",
       "      <td>NaT</td>\n",
       "      <td>11153</td>\n",
       "      <td>750</td>\n",
       "      <td>300</td>\n",
       "      <td>Coordenador</td>\n",
       "      <td>Marketing</td>\n",
       "      <td>70</td>\n",
       "      <td>8.7</td>\n",
       "      <td>Ativo</td>\n",
       "      <td>12203</td>\n",
       "    </tr>\n",
       "    <tr>\n",
       "      <th>3</th>\n",
       "      <td>320</td>\n",
       "      <td>ALINE</td>\n",
       "      <td>SILVA</td>\n",
       "      <td>F</td>\n",
       "      <td>1976-06-22</td>\n",
       "      <td>Av. Paulista, 1230 - Bela Vista, São Paulo - S...</td>\n",
       "      <td>2015-08-13</td>\n",
       "      <td>2021-08-12</td>\n",
       "      <td>898</td>\n",
       "      <td>500</td>\n",
       "      <td>200</td>\n",
       "      <td>Estagiário</td>\n",
       "      <td>Operações</td>\n",
       "      <td>174</td>\n",
       "      <td>7.4</td>\n",
       "      <td>Demitido</td>\n",
       "      <td>1598</td>\n",
       "    </tr>\n",
       "    <tr>\n",
       "      <th>4</th>\n",
       "      <td>88</td>\n",
       "      <td>ALINE</td>\n",
       "      <td>SOUZA</td>\n",
       "      <td>F</td>\n",
       "      <td>1981-09-04</td>\n",
       "      <td>Condomínio Sorocaba Shopping Center - Av. Dr. ...</td>\n",
       "      <td>2020-03-29</td>\n",
       "      <td>NaT</td>\n",
       "      <td>18878</td>\n",
       "      <td>500</td>\n",
       "      <td>225</td>\n",
       "      <td>Gerente</td>\n",
       "      <td>Administrativo</td>\n",
       "      <td>132</td>\n",
       "      <td>8.3</td>\n",
       "      <td>Ativo</td>\n",
       "      <td>19603</td>\n",
       "    </tr>\n",
       "  </tbody>\n",
       "</table>\n",
       "</div>"
      ],
      "text/plain": [
       "   ID RH     Nome Sobrenome Genero Data de Nascimento  \\\n",
       "0    195  ADELINO   WERNECK      M         1997-04-27   \n",
       "1    102  ADRIANO     SOUZA      M         1993-12-09   \n",
       "2    342  ALFREDO    ARAUJO      M         1986-08-14   \n",
       "3    320    ALINE     SILVA      F         1976-06-22   \n",
       "4     88    ALINE     SOUZA      F         1981-09-04   \n",
       "\n",
       "                                            Endereço Data de Contratacao  \\\n",
       "0  Av. Guilherme Campos, 500 - Jardim Santa Geneb...          2015-04-23   \n",
       "1  Av. Limeira, 722 - Areião, Piracicaba - SP, 13...          2020-12-05   \n",
       "2  Av. Limeira, 722 - Areião, Piracicaba - SP, 13...          2020-04-02   \n",
       "3  Av. Paulista, 1230 - Bela Vista, São Paulo - S...          2015-08-13   \n",
       "4  Condomínio Sorocaba Shopping Center - Av. Dr. ...          2020-03-29   \n",
       "\n",
       "  Data de Demissao  Salario   VR   VT        Cargo            Área  \\\n",
       "0              NaT    12954  700  200  Coordenador  Administrativo   \n",
       "1              NaT     1635  500  225   Estagiário       Marketing   \n",
       "2              NaT    11153  750  300  Coordenador       Marketing   \n",
       "3       2021-08-12      898  500  200   Estagiário       Operações   \n",
       "4              NaT    18878  500  225      Gerente  Administrativo   \n",
       "\n",
       "   Horas Extras  Avaliação do Funcionário    Status  Folha Salarial  \n",
       "0           161                       9.8     Ativo           13854  \n",
       "1            57                       7.3     Ativo            2360  \n",
       "2            70                       8.7     Ativo           12203  \n",
       "3           174                       7.4  Demitido            1598  \n",
       "4           132                       8.3     Ativo           19603  "
      ]
     },
     "execution_count": 43,
     "metadata": {},
     "output_type": "execute_result"
    }
   ],
   "source": [
    "df.head()"
   ]
  },
  {
   "cell_type": "code",
   "execution_count": 42,
   "id": "44348030",
   "metadata": {},
   "outputs": [
    {
     "name": "stdout",
     "output_type": "stream",
     "text": [
      "Área\n",
      "Logística         7257.5\n",
      "Marketing         7290.5\n",
      "Administrativo    7320.5\n",
      "Comercial         7373.0\n",
      "Operações         7814.0\n",
      "Financeiro        8030.0\n",
      "Name: Salario, dtype: float64\n"
     ]
    }
   ],
   "source": [
    "salaria_area = df.groupby(\"Área\")[\"Salario\"].median().sort_values()\n",
    "print(salaria_area)"
   ]
  }
 ],
 "metadata": {
  "kernelspec": {
   "display_name": "Python 3",
   "language": "python",
   "name": "python3"
  },
  "language_info": {
   "codemirror_mode": {
    "name": "ipython",
    "version": 3
   },
   "file_extension": ".py",
   "mimetype": "text/x-python",
   "name": "python",
   "nbconvert_exporter": "python",
   "pygments_lexer": "ipython3",
   "version": "3.13.4"
  }
 },
 "nbformat": 4,
 "nbformat_minor": 5
}
